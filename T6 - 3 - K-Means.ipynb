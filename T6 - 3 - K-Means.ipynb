{
 "cells": [
  {
   "cell_type": "markdown",
   "metadata": {},
   "source": [
    "# El método de k-means"
   ]
  },
  {
   "cell_type": "code",
   "execution_count": 1,
   "metadata": {},
   "outputs": [],
   "source": [
    "import numpy as np"
   ]
  },
  {
   "cell_type": "code",
   "execution_count": 2,
   "metadata": {},
   "outputs": [
    {
     "data": {
      "text/plain": [
       "array([[0.45025842, 0.69450501, 0.05467647],\n",
       "       [0.44933376, 0.72587292, 0.28643105],\n",
       "       [0.58037141, 0.65054973, 0.31306614],\n",
       "       [0.70730748, 0.8194583 , 0.32755797],\n",
       "       [0.31747729, 0.73535522, 0.93610665],\n",
       "       [0.2704705 , 0.0524695 , 0.89305384],\n",
       "       [0.62233553, 0.04526485, 0.01188222],\n",
       "       [0.82815707, 0.43829385, 0.27363108],\n",
       "       [0.00104787, 0.37174969, 0.36483854],\n",
       "       [0.6068567 , 0.05529723, 0.78087235],\n",
       "       [0.80003268, 0.38769412, 0.45949239],\n",
       "       [0.3981952 , 0.95610216, 0.96416601],\n",
       "       [0.73236133, 0.89248679, 0.08838199],\n",
       "       [0.09002634, 0.77880339, 0.9079661 ],\n",
       "       [0.76938085, 0.42862781, 0.97908592],\n",
       "       [0.36367381, 0.14287881, 0.57031597],\n",
       "       [0.48384085, 0.70071037, 0.3965248 ],\n",
       "       [0.51838571, 0.49656341, 0.38707523],\n",
       "       [0.14625826, 0.76070681, 0.98766308],\n",
       "       [0.52433621, 0.79067471, 0.19343029],\n",
       "       [0.00966722, 0.00545688, 0.99761369],\n",
       "       [0.15075755, 0.20947816, 0.28668199],\n",
       "       [0.70259908, 0.6102127 , 0.60881733],\n",
       "       [0.52330069, 0.23185452, 0.39344791],\n",
       "       [0.41956927, 0.32507804, 0.91319768],\n",
       "       [0.9287358 , 0.55814033, 0.11758801],\n",
       "       [0.33209474, 0.41431214, 0.01625778],\n",
       "       [0.01422093, 0.89846788, 0.71768016],\n",
       "       [0.72996075, 0.11373195, 0.6417186 ],\n",
       "       [0.69837518, 0.39796611, 0.79477032]])"
      ]
     },
     "execution_count": 2,
     "metadata": {},
     "output_type": "execute_result"
    }
   ],
   "source": [
    "data = np.random.random(90).reshape(30,3)\n",
    "data"
   ]
  },
  {
   "cell_type": "code",
   "execution_count": 4,
   "metadata": {},
   "outputs": [
    {
     "data": {
      "text/plain": [
       "array([[0.82815707, 0.43829385, 0.27363108],\n",
       "       [0.80003268, 0.38769412, 0.45949239]])"
      ]
     },
     "execution_count": 4,
     "metadata": {},
     "output_type": "execute_result"
    }
   ],
   "source": [
    "c1 = np.random.choice(range(len(data))) # Centroide 1\n",
    "c2 = np.random.choice(range(len(data))) # Centroide 2\n",
    "clust_centers = np.vstack([data[c1], data[c2]])\n",
    "clust_centers"
   ]
  },
  {
   "cell_type": "code",
   "execution_count": 5,
   "metadata": {},
   "outputs": [],
   "source": [
    "from scipy.cluster.vq import vq"
   ]
  },
  {
   "cell_type": "code",
   "execution_count": 6,
   "metadata": {},
   "outputs": [
    {
     "data": {
      "text/plain": [
       "(array([0, 0, 0, 0, 1, 1, 0, 0, 1, 1, 1, 1, 0, 1, 1, 1, 1, 1, 1, 0, 1, 1,\n",
       "        1, 1, 1, 0, 0, 1, 1, 1]),\n",
       " array([0.50635232, 0.47578637, 0.32864178, 0.40348367, 0.76216081,\n",
       "        0.76209395, 0.51511821, 0.        , 0.80472996, 0.50108855,\n",
       "        0.        , 0.85980028, 0.49978524, 0.92639308, 0.52210395,\n",
       "        0.51246997, 0.44935661, 0.31051857, 0.91952364, 0.47213511,\n",
       "        1.02973657, 0.69511335, 0.28514166, 0.32438935, 0.59541723,\n",
       "        0.22097217, 0.55936927, 0.97213727, 0.33641008, 0.35050115]))"
      ]
     },
     "execution_count": 6,
     "metadata": {},
     "output_type": "execute_result"
    }
   ],
   "source": [
    "vq(data, clust_centers)"
   ]
  },
  {
   "cell_type": "code",
   "execution_count": 7,
   "metadata": {},
   "outputs": [],
   "source": [
    "from scipy.cluster.vq import kmeans"
   ]
  },
  {
   "cell_type": "code",
   "execution_count": 11,
   "metadata": {},
   "outputs": [
    {
     "data": {
      "text/plain": [
       "(array([[0.61223005, 0.56377292, 0.26188404],\n",
       "        [0.33239585, 0.41547798, 0.78238206]]), 0.3796430155371767)"
      ]
     },
     "execution_count": 11,
     "metadata": {},
     "output_type": "execute_result"
    }
   ],
   "source": [
    "kmeans(data, clust_centers)"
   ]
  },
  {
   "cell_type": "code",
   "execution_count": 12,
   "metadata": {},
   "outputs": [
    {
     "data": {
      "text/plain": [
       "(array([[0.37185633, 0.43468783, 0.85263157],\n",
       "        [0.54913272, 0.53163656, 0.26939889]]), 0.3784379293538579)"
      ]
     },
     "execution_count": 12,
     "metadata": {},
     "output_type": "execute_result"
    }
   ],
   "source": [
    "kmeans(data,2)"
   ]
  },
  {
   "cell_type": "code",
   "execution_count": null,
   "metadata": {},
   "outputs": [],
   "source": []
  }
 ],
 "metadata": {
  "kernelspec": {
   "display_name": "Python 3",
   "language": "python",
   "name": "python3"
  },
  "language_info": {
   "codemirror_mode": {
    "name": "ipython",
    "version": 3
   },
   "file_extension": ".py",
   "mimetype": "text/x-python",
   "name": "python",
   "nbconvert_exporter": "python",
   "pygments_lexer": "ipython3",
   "version": "3.7.4"
  }
 },
 "nbformat": 4,
 "nbformat_minor": 2
}
